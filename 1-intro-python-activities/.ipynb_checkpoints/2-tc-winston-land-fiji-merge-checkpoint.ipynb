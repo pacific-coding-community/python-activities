{
 "cells": [
  {
   "cell_type": "markdown",
   "id": "2142d556-0028-45e1-ad25-130f32855b4f",
   "metadata": {},
   "source": [
    "<img src=\"https://github.com/digitalearthpacific/DigitalEarthPacific/blob/main/notebooks/DEP_LCAST/reference_materials/images/1.1a.JPG?raw=true\" width=\"600\"/>\n",
    "Figure 1.1.a. Jupyter environment + Python notebooks"
   ]
  },
  {
   "cell_type": "markdown",
   "id": "faa72082-04c6-4108-9034-1f75052ef7d4",
   "metadata": {},
   "source": [
    "Intended for new users of Python. The notebook provides the foundations of Python libraries including geopandas. For questions regarding this notebook contact the author via https://github.com/nicholasmetherall"
   ]
  },
  {
   "cell_type": "markdown",
   "id": "61425a67-c5ca-4e70-887b-a1cb5b6f233b",
   "metadata": {},
   "source": [
    "## Background\n",
    " \n",
    "\n",
    "<font color='blue'>Tropical Cyclone Winston (TC Winston) made landfall over Fiji in April 2016. It was a record breaking TC event and the most severe tropical cyclone recorded in Fiji's history. In this activity you will plot the areas of Fiji and the areas of the 64 knot wind speed swath of TC Winston.  \n",
    "</font>"
   ]
  },
  {
   "cell_type": "markdown",
   "id": "40d139a4-e658-4725-88d3-b6f3ceed63d5",
   "metadata": {},
   "source": [
    "<div><img src=\"https://github.com/nicholasmetherall/digital-earth-pacific-macblue-activities/blob/main/attachments/images/TC_Winston_2.JPG?raw=true\" width=\"900\"/>\n",
    "Figure 1. Tropical Cyclone Winston"
   ]
  },
  {
   "cell_type": "code",
   "execution_count": 2,
   "id": "25731c0d-bd95-4910-ae21-2c466975e798",
   "metadata": {},
   "outputs": [
    {
     "name": "stdout",
     "output_type": "stream",
     "text": [
      "Requirement already satisfied: openpyxl in /srv/conda/envs/notebook/lib/python3.10/site-packages (3.1.5)\n",
      "Requirement already satisfied: et-xmlfile in /srv/conda/envs/notebook/lib/python3.10/site-packages (from openpyxl) (2.0.0)\n"
     ]
    }
   ],
   "source": [
    "# import libraries as lib\n",
    "import geopandas as gpd\n",
    "import pandas as pd\n",
    "import rasterio as rio\n",
    "import xarray as xr\n",
    "\n",
    "!pip install openpyxl\n"
   ]
  },
  {
   "cell_type": "code",
   "execution_count": 3,
   "id": "348ff4a5-9a60-40ea-b1ae-670bb5fd8348",
   "metadata": {},
   "outputs": [],
   "source": [
    "import openpyxl\n",
    "import os\n",
    "from pathlib import Path\n",
    "import geopandas as gpd\n",
    "import pandas as pd\n",
    "import numpy as np\n",
    "import matplotlib as mpl\n",
    "import matplotlib.pyplot as plt\n",
    "from matplotlib.colors import ListedColormap\n",
    "from collections import OrderedDict\n",
    "from shapely.geometry import shape\n",
    "from geopandas import GeoDataFrame\n",
    "from pandas import Series\n",
    "import warnings"
   ]
  },
  {
   "cell_type": "markdown",
   "id": "5c5a214d-ecd3-4184-9bbb-96231f3f29e1",
   "metadata": {},
   "source": [
    "\n",
    "\n",
    "<font color='blue'>gpd.read_file is a command that allows you to read the file in the format you have saved your file in\n",
    "</font>"
   ]
  },
  {
   "cell_type": "code",
   "execution_count": 4,
   "id": "8677b682-db1c-4f69-b693-04b00a8b8c86",
   "metadata": {},
   "outputs": [],
   "source": [
    "Winston_64kn = gpd.read_file(\"Winston_64kn.geojson\").to_crs(\"EPSG:32760\")"
   ]
  },
  {
   "cell_type": "markdown",
   "id": "07f6bb46-22b9-473c-975e-f8de35366ed2",
   "metadata": {},
   "source": [
    "\n",
    "\n",
    "<font color='blue'>This creates a square perimeter of the AOI (Area of Interest) that you would like to do your processing in which narrows your storage capacity down to just that area instead of the whole projection areas.\n",
    "</font>"
   ]
  },
  {
   "cell_type": "code",
   "execution_count": 5,
   "id": "f0301e27-9d0f-4663-9d6c-96ee512f280c",
   "metadata": {},
   "outputs": [],
   "source": [
    "bbox = gpd.read_file(\"bbox_fiji.geojson\").to_crs(\"EPSG:32760\")"
   ]
  },
  {
   "cell_type": "code",
   "execution_count": 6,
   "id": "da0a15ae-5391-4515-a241-0ae6f9c7e260",
   "metadata": {},
   "outputs": [],
   "source": [
    "fiji_land = gpd.read_file(\"fiji-land.geojson\").fillna(0).to_crs(\"EPSG:32760\")\n",
    "fiji_land['m2'] = fiji_land.geometry.area\n"
   ]
  },
  {
   "cell_type": "markdown",
   "id": "79c4491a-5478-4fe2-b05e-d05a3a6bb38c",
   "metadata": {},
   "source": [
    "\n",
    "\n",
    "<font color='red'>Q.1a. What is the area of Fiji recorded in this dataset in m2? (Hint: Use imported variable from above)\n",
    "</font>"
   ]
  },
  {
   "cell_type": "code",
   "execution_count": null,
   "id": "37efc706-ee2b-4e16-b454-1aa572fde577",
   "metadata": {},
   "outputs": [],
   "source": []
  },
  {
   "cell_type": "markdown",
   "id": "7c06c739-f8be-41a2-8d5b-c159fb8f786b",
   "metadata": {},
   "source": [
    "\n",
    "\n",
    "<font color='red'>Q.1b. What is the area of Fiji recorded in this dataset in km2? (Hint: convert from m2 to km2)\n",
    "</font>"
   ]
  },
  {
   "cell_type": "code",
   "execution_count": null,
   "id": "72e0faf2-112f-475a-953a-85cd00583c07",
   "metadata": {},
   "outputs": [],
   "source": []
  },
  {
   "cell_type": "markdown",
   "id": "5514ba20-2cee-4481-86f9-89d7d51d8c99",
   "metadata": {},
   "source": [
    "\n",
    "\n",
    "<font color='red'>Q.2a. Plot the area of Fiji using the following syntax variable.plot() - (Hint: Use the land variable from above)\n",
    "</font>"
   ]
  },
  {
   "cell_type": "code",
   "execution_count": null,
   "id": "d4086a57-00e4-46dc-989d-db7b3ffb84c3",
   "metadata": {},
   "outputs": [],
   "source": []
  },
  {
   "cell_type": "markdown",
   "id": "39bbd47c-a494-4a9b-b14c-3562d1804a27",
   "metadata": {},
   "source": [
    "\n",
    "\n",
    "<font color='red'>Q.2b. Using the same method plot the area of Tropical Cyclone Winston 64 knot wind speed swath (Hint: Use variable Winston_64kn)\n",
    "</font>"
   ]
  },
  {
   "cell_type": "code",
   "execution_count": null,
   "id": "a667aeea-cfc2-4ace-9d14-fbda8a1a2769",
   "metadata": {},
   "outputs": [],
   "source": []
  },
  {
   "cell_type": "markdown",
   "id": "b0634110-b689-4ea1-bccb-1f9ad7abd2cc",
   "metadata": {},
   "source": [
    "### Land area within the 64 knot wind speed swath\n",
    "\n",
    "\n",
    "<font color='blue'>Often the areas most affected by tropical cyclones are exposed to the highest wind speed forcing. Here you will plot the areas of Fiji falling within the 64 knot wind speed swath of TC Winston:  \n",
    "</font>"
   ]
  },
  {
   "cell_type": "code",
   "execution_count": 12,
   "id": "8b14cd3c-3822-433d-8b32-ab81066b12aa",
   "metadata": {},
   "outputs": [],
   "source": [
    "land_Winston_64kn = gpd.clip(fiji_land, Winston_64kn)"
   ]
  },
  {
   "cell_type": "markdown",
   "id": "a56e1975-e1f5-4ab7-ad57-0cf27ba0b3e8",
   "metadata": {},
   "source": [
    "#### The area of the land within the 64 knot wind speed swath of TC Winston is defined within the variable  `land_Winston_64kn` "
   ]
  },
  {
   "cell_type": "markdown",
   "id": "741a977b-3b3a-4e06-b517-a5831cb72d9d",
   "metadata": {},
   "source": [
    "\n",
    "\n",
    "<font color='red'>Q.3a. What is the area of the land within the 64 knot wind speed swath of TC Winston in km2? in m2? You will need to use an area function to figure this out e.g. `fiji_land.geometry.area`\n",
    "</font>"
   ]
  },
  {
   "cell_type": "code",
   "execution_count": null,
   "id": "dda45de2-bfff-47e1-bc1b-a31cb445a834",
   "metadata": {},
   "outputs": [],
   "source": []
  },
  {
   "cell_type": "markdown",
   "id": "9e2cd722-8e96-448d-9fd3-8494f6c687f2",
   "metadata": {},
   "source": [
    "\n",
    "\n",
    "<font color='red'>Q.3b. What is the area of the land within the 64 knot wind speed swath of TC Winston in km2? (Hint: divide by 1,000,000)\n",
    "</font>"
   ]
  },
  {
   "cell_type": "code",
   "execution_count": null,
   "id": "cf8d54ff-00ff-42ca-b281-84cd9700f2fc",
   "metadata": {},
   "outputs": [],
   "source": []
  },
  {
   "cell_type": "markdown",
   "id": "59f2cdfa-779e-4814-8c07-721dbb74b7f2",
   "metadata": {},
   "source": [
    "\n",
    "\n",
    "<font color='red'>Q.3c. Plot the area of land affected within the 64 knot wind speed swath of the path of TC Winston \n",
    "</font>\n"
   ]
  },
  {
   "cell_type": "code",
   "execution_count": null,
   "id": "0764811f-b3c8-4bf5-bfca-fddc24111f05",
   "metadata": {},
   "outputs": [],
   "source": []
  },
  {
   "cell_type": "markdown",
   "id": "ec5079c9-a040-4021-8c0f-ed40870892fe",
   "metadata": {},
   "source": [
    "### Bonus activity - complete the same workflow steps (questions 1-3) with the TC Yasa 64 knot wind speed swath  "
   ]
  },
  {
   "cell_type": "code",
   "execution_count": null,
   "id": "264f45e6-949a-4f77-b5e4-73cfa062e5d0",
   "metadata": {},
   "outputs": [],
   "source": []
  },
  {
   "cell_type": "code",
   "execution_count": null,
   "id": "43d3a0f5-0f67-41db-9540-7906b7268369",
   "metadata": {},
   "outputs": [],
   "source": []
  },
  {
   "cell_type": "code",
   "execution_count": null,
   "id": "30c89ec7-b9f1-4867-a177-3011ab8361c1",
   "metadata": {},
   "outputs": [],
   "source": []
  },
  {
   "cell_type": "markdown",
   "id": "27ee7c94-ad13-4158-9cd5-de0cc092eff1",
   "metadata": {},
   "source": [
    "### Exposure of assets to tropical cyclones\n",
    "\n",
    "<font color='blue'>Tropical cyclones have significant impacts upon economic assets such as buildings and infrastructure. In this activity we will explore some examples of how python can be used to quickly search and filter through large datasets including this collection of building data points.   \n",
    "</font>"
   ]
  },
  {
   "cell_type": "code",
   "execution_count": 14,
   "id": "fc4279f8-7032-4536-a37d-295c62ad95c8",
   "metadata": {},
   "outputs": [],
   "source": [
    "fiji_buildings = gpd.read_file(\"fiji_buildings_112024.geojson\").to_crs(\"EPSG:32760\")"
   ]
  },
  {
   "cell_type": "markdown",
   "id": "b2814027-c8b7-4402-9a1b-309aa4697b7e",
   "metadata": {},
   "source": [
    "<font color='red'>Q.4a. How many buildings are in the dataset stored in the variable fiji_buildings? You can find out by using the len() function e.g. `len(variable)`\n",
    "</font>"
   ]
  },
  {
   "cell_type": "code",
   "execution_count": null,
   "id": "5df873e0-b0a9-4961-b226-73910afdc79c",
   "metadata": {},
   "outputs": [],
   "source": []
  },
  {
   "cell_type": "code",
   "execution_count": 25,
   "id": "b51d55bd-a6d1-4f09-aad5-5495d8df446d",
   "metadata": {},
   "outputs": [],
   "source": [
    "total_fiji_buildings = "
   ]
  },
  {
   "cell_type": "markdown",
   "id": "237fb95d-1010-45b1-a005-f27b602a827c",
   "metadata": {},
   "source": [
    "<font color='red'>Q.4b. With more than 500 buildings it would take a long time to sort through them all manually to find the buildings most affected by TC events. Use Python to find out how many of these buildings were within the 64 knot wind speed swath of TC Winston. Run the code cell below to count how many of these buildings there are.\n",
    "</font>"
   ]
  },
  {
   "cell_type": "code",
   "execution_count": 29,
   "id": "dfd8dec2-cf86-45b6-bdce-d96b6832cb36",
   "metadata": {},
   "outputs": [],
   "source": [
    "joined_buildings = gpd.sjoin(fiji_buildings, land_Winston_64kn, how=\"inner\", predicate=\"within\")\n",
    "counts = joined_buildings.groupby(\"index_right\").size()\n",
    "print(counts)"
   ]
  },
  {
   "cell_type": "markdown",
   "id": "a72a8dfe-85e8-4aff-8193-92538acb743c",
   "metadata": {},
   "source": [
    "<font color='red'>Q.4c. Enter the number of buildings in the next cell\n",
    "</font>"
   ]
  },
  {
   "cell_type": "code",
   "execution_count": 21,
   "id": "4af3c42a-0c55-4456-bfc4-32e7a0f9145a",
   "metadata": {},
   "outputs": [],
   "source": [
    "buildings_in_TC_Winston_path = "
   ]
  },
  {
   "cell_type": "markdown",
   "id": "35f6cc7f-0adb-404c-a9f8-c36c447dd3c8",
   "metadata": {},
   "source": [
    "<font color='red'>Q.4d. Run the following code cell to calculate the percent of buildings falling within the 64 knot wind speed swath of TC Winston. \n",
    "</font>"
   ]
  },
  {
   "cell_type": "code",
   "execution_count": 40,
   "id": "ace0a67a-7c79-43b5-a0c1-251d6837e7b8",
   "metadata": {},
   "outputs": [],
   "source": [
    "buildings_in_TC_Winston_path/total_fiji_buildings*100"
   ]
  },
  {
   "cell_type": "markdown",
   "id": "302b2c3d-6092-41a5-b2fe-43117bca21e7",
   "metadata": {},
   "source": [
    "<font color='red'>Q.4e. Complete the same workflow but now for TC Yasa. \n",
    "</font>"
   ]
  },
  {
   "cell_type": "code",
   "execution_count": null,
   "id": "d14ea9d9-a60f-4f19-ae4c-3f0a453f1874",
   "metadata": {},
   "outputs": [],
   "source": []
  },
  {
   "cell_type": "markdown",
   "id": "39cd04f6-3e9b-47c1-9850-44a57a0c1777",
   "metadata": {},
   "source": [
    "### Exposure and vulnerability of buildings to tropical cyclones\n",
    "\n",
    "<font color='blue'>Often rooftops with steep pitches are more vulnerable to direct wind forcing pressure of tropical cyclones. However, buildings with flat rooves may also be vulnerable to the uplift generated through the suction of passing winds too. In this activity we can use Python to query this dataset to count the number of buildings with these different attribute values of vulnerable roof pitches and other conditions...  \n",
    "</font>"
   ]
  },
  {
   "cell_type": "markdown",
   "id": "5773f5df-2507-4e2f-b707-92ec1c642d9b",
   "metadata": {},
   "source": [
    "<font color='red'>Q.5a. Count the number of buildings with steep rooves in the dataset by running the cell below: "
   ]
  },
  {
   "cell_type": "code",
   "execution_count": 38,
   "id": "3c1b14c9-551d-4279-9fad-cd63e1a5780f",
   "metadata": {},
   "outputs": [
    {
     "data": {
      "text/plain": [
       "8"
      ]
     },
     "execution_count": 38,
     "metadata": {},
     "output_type": "execute_result"
    }
   ],
   "source": [
    "# Filter points where the attribute column equals 'desired_value'\n",
    "steep_rooves = fiji_buildings[fiji_buildings[\"roof-pitch\"] == \"Steep\"]\n",
    "len(steep_rooves)"
   ]
  },
  {
   "cell_type": "markdown",
   "id": "3695c640-4312-413f-85df-dff133a3fa91",
   "metadata": {},
   "source": [
    "<font color='red'>Q.5b. Count the number of buildings with flat rooves in the dataset."
   ]
  },
  {
   "cell_type": "code",
   "execution_count": null,
   "id": "7f9d18e5-541f-44ed-b9e1-188b5a4350a8",
   "metadata": {},
   "outputs": [],
   "source": []
  },
  {
   "cell_type": "markdown",
   "id": "c0d087be-a47c-4be0-a4cf-1fdc3051b7cf",
   "metadata": {},
   "source": [
    "<font color='red'>Q.5c. Count the number of buildings with flat rooves and fall within the TC Winston swath."
   ]
  },
  {
   "cell_type": "code",
   "execution_count": null,
   "id": "02ae61ff-d5e5-417a-8aca-ef3a20369c0d",
   "metadata": {},
   "outputs": [],
   "source": []
  },
  {
   "cell_type": "markdown",
   "id": "5378650f-db78-4a78-94f4-e7087aa1a51b",
   "metadata": {},
   "source": [
    "<font color='red'>Q.5d. Count the number of buildings with flat rooves and fall within the TC Yasa swath."
   ]
  },
  {
   "cell_type": "code",
   "execution_count": null,
   "id": "3b4f2d41-1659-4499-86d6-cd3dccbc1ff0",
   "metadata": {},
   "outputs": [],
   "source": []
  },
  {
   "cell_type": "code",
   "execution_count": null,
   "id": "8818d4d9-ebdd-4780-b240-3210d5a9fb94",
   "metadata": {},
   "outputs": [],
   "source": []
  }
 ],
 "metadata": {
  "kernelspec": {
   "display_name": "Python 3 (ipykernel)",
   "language": "python",
   "name": "python3"
  },
  "language_info": {
   "codemirror_mode": {
    "name": "ipython",
    "version": 3
   },
   "file_extension": ".py",
   "mimetype": "text/x-python",
   "name": "python",
   "nbconvert_exporter": "python",
   "pygments_lexer": "ipython3",
   "version": "3.10.15"
  }
 },
 "nbformat": 4,
 "nbformat_minor": 5
}

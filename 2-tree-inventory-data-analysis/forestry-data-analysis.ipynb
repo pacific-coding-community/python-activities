{
 "cells": [
  {
   "cell_type": "markdown",
   "id": "e528b0d8-6906-4061-b607-d6238147f437",
   "metadata": {},
   "source": [
    "### Forestry data analysis activities 2.1\n",
    "\n",
    "<div><img src=\"https://github.com/nicholasmetherall/python_activities/blob/main/additional-materials/mangrove_trees_vu.png?raw=true\" width=\"650\"/>\n",
    "\n",
    "##### Remember to start from the top and run this code before commencing the subsequent activities below:\n"
   ]
  },
  {
   "cell_type": "code",
   "execution_count": 1,
   "id": "2cd1d489-c1e4-49b8-a12f-38211d5f2669",
   "metadata": {},
   "outputs": [],
   "source": [
    "import pandas as pd\n",
    "import geopandas as gpd\n",
    "from shapely.geometry import Point"
   ]
  },
  {
   "cell_type": "markdown",
   "id": "c0dd7e34-4046-40ec-85be-fca22e817259",
   "metadata": {},
   "source": [
    "##### Introduction: \n",
    "You spent the last few days measuring trees for a forest inventory survey and have returned to the office to collate all of the data. "
   ]
  },
  {
   "cell_type": "markdown",
   "id": "233beeab-a7a6-4d24-aef6-1e5c62f27fef",
   "metadata": {},
   "source": [
    "<div><img src=\"https://github.com/nicholasmetherall/python_activities/blob/main/additional-materials/mangrove_forestry_team.png?raw=true\" width=\"450\"/>"
   ]
  },
  {
   "cell_type": "markdown",
   "id": "3ba0ce89-ece4-4fe3-bada-0a2231d7f833",
   "metadata": {},
   "source": [
    "You now have a moderately large dataset but now comes the tricky part: data analysis.\n",
    "\n",
    "#####  Step 1: Read your dataset 'trees_nm.csv' into a python dataframe using the following:    \n",
    "trees = pd.read_csv('`dataset_name`')\n",
    "\n",
    "Note, you need to edit the sections highlighted as code like `this example`"
   ]
  },
  {
   "cell_type": "code",
   "execution_count": 2,
   "id": "032ec54e-67fd-421a-9165-639988e6c930",
   "metadata": {},
   "outputs": [],
   "source": [
    "trees = pd.read_csv('trees_nm.csv')"
   ]
  },
  {
   "cell_type": "code",
   "execution_count": 3,
   "id": "c5d04ca0-1b3b-4441-9cfa-aa165f81b8dd",
   "metadata": {
    "scrolled": true
   },
   "outputs": [
    {
     "data": {
      "text/html": [
       "<div>\n",
       "<style scoped>\n",
       "    .dataframe tbody tr th:only-of-type {\n",
       "        vertical-align: middle;\n",
       "    }\n",
       "\n",
       "    .dataframe tbody tr th {\n",
       "        vertical-align: top;\n",
       "    }\n",
       "\n",
       "    .dataframe thead th {\n",
       "        text-align: right;\n",
       "    }\n",
       "</style>\n",
       "<table border=\"1\" class=\"dataframe\">\n",
       "  <thead>\n",
       "    <tr style=\"text-align: right;\">\n",
       "      <th></th>\n",
       "      <th>Surveyor</th>\n",
       "      <th>GlobalID</th>\n",
       "      <th>Tree species scientific</th>\n",
       "      <th>Height of tree (m)</th>\n",
       "      <th>DBH (cm)</th>\n",
       "      <th>Density</th>\n",
       "      <th>x</th>\n",
       "      <th>y</th>\n",
       "    </tr>\n",
       "  </thead>\n",
       "  <tbody>\n",
       "    <tr>\n",
       "      <th>0</th>\n",
       "      <td>Nick Metherall Nasolo June 2022</td>\n",
       "      <td>088df9e6-8f99-4b95-b191-4996d70c52f8</td>\n",
       "      <td>Carica papaya</td>\n",
       "      <td>3.90</td>\n",
       "      <td>5.3</td>\n",
       "      <td>0.75</td>\n",
       "      <td>177.682220</td>\n",
       "      <td>-17.572516</td>\n",
       "    </tr>\n",
       "    <tr>\n",
       "      <th>1</th>\n",
       "      <td>Nick Metherall Nasolo June 2022</td>\n",
       "      <td>52e56696-fcc5-4ead-a3c4-6943d9659211</td>\n",
       "      <td>Spathodea campanulata</td>\n",
       "      <td>8.20</td>\n",
       "      <td>11.8</td>\n",
       "      <td>0.45</td>\n",
       "      <td>177.683702</td>\n",
       "      <td>-17.572183</td>\n",
       "    </tr>\n",
       "    <tr>\n",
       "      <th>2</th>\n",
       "      <td>Nick Metherall Nasolo June 2022</td>\n",
       "      <td>b127db32-d95b-46c4-863c-60bac9561997</td>\n",
       "      <td>Spathodea campanulata</td>\n",
       "      <td>4.00</td>\n",
       "      <td>9.5</td>\n",
       "      <td>0.45</td>\n",
       "      <td>177.683416</td>\n",
       "      <td>-17.571672</td>\n",
       "    </tr>\n",
       "    <tr>\n",
       "      <th>3</th>\n",
       "      <td>Nick Metherall Nasolo June 2022</td>\n",
       "      <td>c5e61007-9ca3-49fe-8af2-be6e3c45a5d7</td>\n",
       "      <td>Spathodea campanulata</td>\n",
       "      <td>16.30</td>\n",
       "      <td>50.3</td>\n",
       "      <td>0.45</td>\n",
       "      <td>177.683687</td>\n",
       "      <td>-17.572132</td>\n",
       "    </tr>\n",
       "    <tr>\n",
       "      <th>4</th>\n",
       "      <td>Nick Metherall Nasolo June 2022</td>\n",
       "      <td>e7065e0a-a2fa-4f3b-a11d-5debd5634e51</td>\n",
       "      <td>Spathodea campanulata</td>\n",
       "      <td>17.40</td>\n",
       "      <td>53.2</td>\n",
       "      <td>0.45</td>\n",
       "      <td>177.683680</td>\n",
       "      <td>-17.572156</td>\n",
       "    </tr>\n",
       "    <tr>\n",
       "      <th>...</th>\n",
       "      <td>...</td>\n",
       "      <td>...</td>\n",
       "      <td>...</td>\n",
       "      <td>...</td>\n",
       "      <td>...</td>\n",
       "      <td>...</td>\n",
       "      <td>...</td>\n",
       "      <td>...</td>\n",
       "    </tr>\n",
       "    <tr>\n",
       "      <th>431</th>\n",
       "      <td>Mere Nick Nailaga July 2022</td>\n",
       "      <td>a5a55208-4cc8-4dd0-96b2-f3b93b73be21</td>\n",
       "      <td>Samanea saman</td>\n",
       "      <td>9.71</td>\n",
       "      <td>32.8</td>\n",
       "      <td>0.45</td>\n",
       "      <td>177.668023</td>\n",
       "      <td>-17.507451</td>\n",
       "    </tr>\n",
       "    <tr>\n",
       "      <th>432</th>\n",
       "      <td>Mere Nick Nailaga July 2022</td>\n",
       "      <td>8f2bf454-a2a0-40b0-a452-4068f4ece73a</td>\n",
       "      <td>Samanea saman</td>\n",
       "      <td>5.00</td>\n",
       "      <td>12</td>\n",
       "      <td>0.00</td>\n",
       "      <td>177.667937</td>\n",
       "      <td>-17.507486</td>\n",
       "    </tr>\n",
       "    <tr>\n",
       "      <th>433</th>\n",
       "      <td>Mere Nick Nailaga July 2022</td>\n",
       "      <td>342d6787-5f22-417b-8d2d-d43ecf086c11</td>\n",
       "      <td>Samanea saman</td>\n",
       "      <td>7.40</td>\n",
       "      <td>36.6</td>\n",
       "      <td>0.00</td>\n",
       "      <td>177.667946</td>\n",
       "      <td>-17.507519</td>\n",
       "    </tr>\n",
       "    <tr>\n",
       "      <th>434</th>\n",
       "      <td>Mere Nick Nailaga July 2022</td>\n",
       "      <td>2aa02d45-6624-428b-9723-ed11351794e7</td>\n",
       "      <td>Samanea saman</td>\n",
       "      <td>7.50</td>\n",
       "      <td>15.4</td>\n",
       "      <td>0.00</td>\n",
       "      <td>177.667953</td>\n",
       "      <td>-17.507515</td>\n",
       "    </tr>\n",
       "    <tr>\n",
       "      <th>435</th>\n",
       "      <td>Mere Nick Nailaga July 2022</td>\n",
       "      <td>5c043361-7a90-48c1-bd51-b62a37b79354</td>\n",
       "      <td>Samanea saman</td>\n",
       "      <td>5.80</td>\n",
       "      <td>13.1</td>\n",
       "      <td>0.00</td>\n",
       "      <td>177.667965</td>\n",
       "      <td>-17.507522</td>\n",
       "    </tr>\n",
       "  </tbody>\n",
       "</table>\n",
       "<p>436 rows × 8 columns</p>\n",
       "</div>"
      ],
      "text/plain": [
       "                            Surveyor                              GlobalID  \\\n",
       "0    Nick Metherall Nasolo June 2022  088df9e6-8f99-4b95-b191-4996d70c52f8   \n",
       "1    Nick Metherall Nasolo June 2022  52e56696-fcc5-4ead-a3c4-6943d9659211   \n",
       "2    Nick Metherall Nasolo June 2022  b127db32-d95b-46c4-863c-60bac9561997   \n",
       "3    Nick Metherall Nasolo June 2022  c5e61007-9ca3-49fe-8af2-be6e3c45a5d7   \n",
       "4    Nick Metherall Nasolo June 2022  e7065e0a-a2fa-4f3b-a11d-5debd5634e51   \n",
       "..                               ...                                   ...   \n",
       "431      Mere Nick Nailaga July 2022  a5a55208-4cc8-4dd0-96b2-f3b93b73be21   \n",
       "432      Mere Nick Nailaga July 2022  8f2bf454-a2a0-40b0-a452-4068f4ece73a   \n",
       "433      Mere Nick Nailaga July 2022  342d6787-5f22-417b-8d2d-d43ecf086c11   \n",
       "434      Mere Nick Nailaga July 2022  2aa02d45-6624-428b-9723-ed11351794e7   \n",
       "435      Mere Nick Nailaga July 2022  5c043361-7a90-48c1-bd51-b62a37b79354   \n",
       "\n",
       "    Tree species scientific  Height of tree (m) DBH (cm)  Density           x  \\\n",
       "0             Carica papaya                3.90      5.3     0.75  177.682220   \n",
       "1     Spathodea campanulata                8.20     11.8     0.45  177.683702   \n",
       "2     Spathodea campanulata                4.00      9.5     0.45  177.683416   \n",
       "3     Spathodea campanulata               16.30     50.3     0.45  177.683687   \n",
       "4     Spathodea campanulata               17.40     53.2     0.45  177.683680   \n",
       "..                      ...                 ...      ...      ...         ...   \n",
       "431           Samanea saman                9.71     32.8     0.45  177.668023   \n",
       "432           Samanea saman                5.00       12     0.00  177.667937   \n",
       "433           Samanea saman                7.40     36.6     0.00  177.667946   \n",
       "434           Samanea saman                7.50     15.4     0.00  177.667953   \n",
       "435           Samanea saman                5.80     13.1     0.00  177.667965   \n",
       "\n",
       "             y  \n",
       "0   -17.572516  \n",
       "1   -17.572183  \n",
       "2   -17.571672  \n",
       "3   -17.572132  \n",
       "4   -17.572156  \n",
       "..         ...  \n",
       "431 -17.507451  \n",
       "432 -17.507486  \n",
       "433 -17.507519  \n",
       "434 -17.507515  \n",
       "435 -17.507522  \n",
       "\n",
       "[436 rows x 8 columns]"
      ]
     },
     "execution_count": 3,
     "metadata": {},
     "output_type": "execute_result"
    }
   ],
   "source": [
    "trees"
   ]
  },
  {
   "cell_type": "markdown",
   "id": "40bf8618-989b-4fd7-ad70-f6c51eb22a40",
   "metadata": {},
   "source": [
    "Rapidly run the following code cell by tapping 'shift'+'enter' keys together."
   ]
  },
  {
   "cell_type": "code",
   "execution_count": 20,
   "id": "1c404e5c-37a5-4d2f-a743-af5094849537",
   "metadata": {},
   "outputs": [
    {
     "data": {
      "text/plain": [
       "'shiftenter'"
      ]
     },
     "execution_count": 20,
     "metadata": {},
     "output_type": "execute_result"
    }
   ],
   "source": [
    "geometry = [Point(xy) for xy in zip(trees['x'], trees['y'])]\n",
    "trees = gpd.GeoDataFrame(trees, geometry=geometry, crs=\"EPSG:4326\")\n",
    "'shift'+'enter'"
   ]
  },
  {
   "cell_type": "markdown",
   "id": "2e18d310-45b1-464c-952e-f9e6136f84bd",
   "metadata": {},
   "source": [
    "Input `variable_name`"
   ]
  },
  {
   "cell_type": "code",
   "execution_count": 5,
   "id": "8c11254a-a563-4087-a9c3-78449f93be59",
   "metadata": {},
   "outputs": [
    {
     "data": {
      "text/html": [
       "<div>\n",
       "<style scoped>\n",
       "    .dataframe tbody tr th:only-of-type {\n",
       "        vertical-align: middle;\n",
       "    }\n",
       "\n",
       "    .dataframe tbody tr th {\n",
       "        vertical-align: top;\n",
       "    }\n",
       "\n",
       "    .dataframe thead th {\n",
       "        text-align: right;\n",
       "    }\n",
       "</style>\n",
       "<table border=\"1\" class=\"dataframe\">\n",
       "  <thead>\n",
       "    <tr style=\"text-align: right;\">\n",
       "      <th></th>\n",
       "      <th>Surveyor</th>\n",
       "      <th>GlobalID</th>\n",
       "      <th>Tree species scientific</th>\n",
       "      <th>Height of tree (m)</th>\n",
       "      <th>DBH (cm)</th>\n",
       "      <th>Density</th>\n",
       "      <th>x</th>\n",
       "      <th>y</th>\n",
       "      <th>geometry</th>\n",
       "    </tr>\n",
       "  </thead>\n",
       "  <tbody>\n",
       "    <tr>\n",
       "      <th>0</th>\n",
       "      <td>Nick Metherall Nasolo June 2022</td>\n",
       "      <td>088df9e6-8f99-4b95-b191-4996d70c52f8</td>\n",
       "      <td>Carica papaya</td>\n",
       "      <td>3.90</td>\n",
       "      <td>5.3</td>\n",
       "      <td>0.75</td>\n",
       "      <td>177.682220</td>\n",
       "      <td>-17.572516</td>\n",
       "      <td>POINT (177.68222 -17.57252)</td>\n",
       "    </tr>\n",
       "    <tr>\n",
       "      <th>1</th>\n",
       "      <td>Nick Metherall Nasolo June 2022</td>\n",
       "      <td>52e56696-fcc5-4ead-a3c4-6943d9659211</td>\n",
       "      <td>Spathodea campanulata</td>\n",
       "      <td>8.20</td>\n",
       "      <td>11.8</td>\n",
       "      <td>0.45</td>\n",
       "      <td>177.683702</td>\n",
       "      <td>-17.572183</td>\n",
       "      <td>POINT (177.6837 -17.57218)</td>\n",
       "    </tr>\n",
       "    <tr>\n",
       "      <th>2</th>\n",
       "      <td>Nick Metherall Nasolo June 2022</td>\n",
       "      <td>b127db32-d95b-46c4-863c-60bac9561997</td>\n",
       "      <td>Spathodea campanulata</td>\n",
       "      <td>4.00</td>\n",
       "      <td>9.5</td>\n",
       "      <td>0.45</td>\n",
       "      <td>177.683416</td>\n",
       "      <td>-17.571672</td>\n",
       "      <td>POINT (177.68342 -17.57167)</td>\n",
       "    </tr>\n",
       "    <tr>\n",
       "      <th>3</th>\n",
       "      <td>Nick Metherall Nasolo June 2022</td>\n",
       "      <td>c5e61007-9ca3-49fe-8af2-be6e3c45a5d7</td>\n",
       "      <td>Spathodea campanulata</td>\n",
       "      <td>16.30</td>\n",
       "      <td>50.3</td>\n",
       "      <td>0.45</td>\n",
       "      <td>177.683687</td>\n",
       "      <td>-17.572132</td>\n",
       "      <td>POINT (177.68369 -17.57213)</td>\n",
       "    </tr>\n",
       "    <tr>\n",
       "      <th>4</th>\n",
       "      <td>Nick Metherall Nasolo June 2022</td>\n",
       "      <td>e7065e0a-a2fa-4f3b-a11d-5debd5634e51</td>\n",
       "      <td>Spathodea campanulata</td>\n",
       "      <td>17.40</td>\n",
       "      <td>53.2</td>\n",
       "      <td>0.45</td>\n",
       "      <td>177.683680</td>\n",
       "      <td>-17.572156</td>\n",
       "      <td>POINT (177.68368 -17.57216)</td>\n",
       "    </tr>\n",
       "    <tr>\n",
       "      <th>...</th>\n",
       "      <td>...</td>\n",
       "      <td>...</td>\n",
       "      <td>...</td>\n",
       "      <td>...</td>\n",
       "      <td>...</td>\n",
       "      <td>...</td>\n",
       "      <td>...</td>\n",
       "      <td>...</td>\n",
       "      <td>...</td>\n",
       "    </tr>\n",
       "    <tr>\n",
       "      <th>431</th>\n",
       "      <td>Mere Nick Nailaga July 2022</td>\n",
       "      <td>a5a55208-4cc8-4dd0-96b2-f3b93b73be21</td>\n",
       "      <td>Samanea saman</td>\n",
       "      <td>9.71</td>\n",
       "      <td>32.8</td>\n",
       "      <td>0.45</td>\n",
       "      <td>177.668023</td>\n",
       "      <td>-17.507451</td>\n",
       "      <td>POINT (177.66802 -17.50745)</td>\n",
       "    </tr>\n",
       "    <tr>\n",
       "      <th>432</th>\n",
       "      <td>Mere Nick Nailaga July 2022</td>\n",
       "      <td>8f2bf454-a2a0-40b0-a452-4068f4ece73a</td>\n",
       "      <td>Samanea saman</td>\n",
       "      <td>5.00</td>\n",
       "      <td>12</td>\n",
       "      <td>0.00</td>\n",
       "      <td>177.667937</td>\n",
       "      <td>-17.507486</td>\n",
       "      <td>POINT (177.66794 -17.50749)</td>\n",
       "    </tr>\n",
       "    <tr>\n",
       "      <th>433</th>\n",
       "      <td>Mere Nick Nailaga July 2022</td>\n",
       "      <td>342d6787-5f22-417b-8d2d-d43ecf086c11</td>\n",
       "      <td>Samanea saman</td>\n",
       "      <td>7.40</td>\n",
       "      <td>36.6</td>\n",
       "      <td>0.00</td>\n",
       "      <td>177.667946</td>\n",
       "      <td>-17.507519</td>\n",
       "      <td>POINT (177.66795 -17.50752)</td>\n",
       "    </tr>\n",
       "    <tr>\n",
       "      <th>434</th>\n",
       "      <td>Mere Nick Nailaga July 2022</td>\n",
       "      <td>2aa02d45-6624-428b-9723-ed11351794e7</td>\n",
       "      <td>Samanea saman</td>\n",
       "      <td>7.50</td>\n",
       "      <td>15.4</td>\n",
       "      <td>0.00</td>\n",
       "      <td>177.667953</td>\n",
       "      <td>-17.507515</td>\n",
       "      <td>POINT (177.66795 -17.50751)</td>\n",
       "    </tr>\n",
       "    <tr>\n",
       "      <th>435</th>\n",
       "      <td>Mere Nick Nailaga July 2022</td>\n",
       "      <td>5c043361-7a90-48c1-bd51-b62a37b79354</td>\n",
       "      <td>Samanea saman</td>\n",
       "      <td>5.80</td>\n",
       "      <td>13.1</td>\n",
       "      <td>0.00</td>\n",
       "      <td>177.667965</td>\n",
       "      <td>-17.507522</td>\n",
       "      <td>POINT (177.66796 -17.50752)</td>\n",
       "    </tr>\n",
       "  </tbody>\n",
       "</table>\n",
       "<p>436 rows × 9 columns</p>\n",
       "</div>"
      ],
      "text/plain": [
       "                            Surveyor                              GlobalID  \\\n",
       "0    Nick Metherall Nasolo June 2022  088df9e6-8f99-4b95-b191-4996d70c52f8   \n",
       "1    Nick Metherall Nasolo June 2022  52e56696-fcc5-4ead-a3c4-6943d9659211   \n",
       "2    Nick Metherall Nasolo June 2022  b127db32-d95b-46c4-863c-60bac9561997   \n",
       "3    Nick Metherall Nasolo June 2022  c5e61007-9ca3-49fe-8af2-be6e3c45a5d7   \n",
       "4    Nick Metherall Nasolo June 2022  e7065e0a-a2fa-4f3b-a11d-5debd5634e51   \n",
       "..                               ...                                   ...   \n",
       "431      Mere Nick Nailaga July 2022  a5a55208-4cc8-4dd0-96b2-f3b93b73be21   \n",
       "432      Mere Nick Nailaga July 2022  8f2bf454-a2a0-40b0-a452-4068f4ece73a   \n",
       "433      Mere Nick Nailaga July 2022  342d6787-5f22-417b-8d2d-d43ecf086c11   \n",
       "434      Mere Nick Nailaga July 2022  2aa02d45-6624-428b-9723-ed11351794e7   \n",
       "435      Mere Nick Nailaga July 2022  5c043361-7a90-48c1-bd51-b62a37b79354   \n",
       "\n",
       "    Tree species scientific  Height of tree (m) DBH (cm)  Density           x  \\\n",
       "0             Carica papaya                3.90      5.3     0.75  177.682220   \n",
       "1     Spathodea campanulata                8.20     11.8     0.45  177.683702   \n",
       "2     Spathodea campanulata                4.00      9.5     0.45  177.683416   \n",
       "3     Spathodea campanulata               16.30     50.3     0.45  177.683687   \n",
       "4     Spathodea campanulata               17.40     53.2     0.45  177.683680   \n",
       "..                      ...                 ...      ...      ...         ...   \n",
       "431           Samanea saman                9.71     32.8     0.45  177.668023   \n",
       "432           Samanea saman                5.00       12     0.00  177.667937   \n",
       "433           Samanea saman                7.40     36.6     0.00  177.667946   \n",
       "434           Samanea saman                7.50     15.4     0.00  177.667953   \n",
       "435           Samanea saman                5.80     13.1     0.00  177.667965   \n",
       "\n",
       "             y                     geometry  \n",
       "0   -17.572516  POINT (177.68222 -17.57252)  \n",
       "1   -17.572183   POINT (177.6837 -17.57218)  \n",
       "2   -17.571672  POINT (177.68342 -17.57167)  \n",
       "3   -17.572132  POINT (177.68369 -17.57213)  \n",
       "4   -17.572156  POINT (177.68368 -17.57216)  \n",
       "..         ...                          ...  \n",
       "431 -17.507451  POINT (177.66802 -17.50745)  \n",
       "432 -17.507486  POINT (177.66794 -17.50749)  \n",
       "433 -17.507519  POINT (177.66795 -17.50752)  \n",
       "434 -17.507515  POINT (177.66795 -17.50751)  \n",
       "435 -17.507522  POINT (177.66796 -17.50752)  \n",
       "\n",
       "[436 rows x 9 columns]"
      ]
     },
     "execution_count": 5,
     "metadata": {},
     "output_type": "execute_result"
    }
   ],
   "source": [
    "trees"
   ]
  },
  {
   "cell_type": "code",
   "execution_count": null,
   "id": "b014f8e7-fc52-40ed-be27-e64a207ce68d",
   "metadata": {},
   "outputs": [],
   "source": []
  },
  {
   "cell_type": "markdown",
   "id": "a3c429d1-96d7-4e9b-8bb2-192940c7d952",
   "metadata": {},
   "source": [
    "Figure out how many trees there are in the dataset? Use `len(variable_name)`"
   ]
  },
  {
   "cell_type": "code",
   "execution_count": 6,
   "id": "f975c36f-c8ff-4e47-82a1-61c62222907f",
   "metadata": {},
   "outputs": [
    {
     "data": {
      "text/plain": [
       "436"
      ]
     },
     "execution_count": 6,
     "metadata": {},
     "output_type": "execute_result"
    }
   ],
   "source": [
    "len(trees)"
   ]
  },
  {
   "cell_type": "markdown",
   "id": "f41b4801-1658-453b-b63b-44e9ebe8b4eb",
   "metadata": {},
   "source": [
    "How many papaya trees did you measure? You will need to search to find the scientific name.  \n",
    "\n",
    "count = (trees['`insert species column name`'] == '`insert papaya tree scientific name`').sum()"
   ]
  },
  {
   "cell_type": "code",
   "execution_count": 7,
   "id": "de336197-4917-473e-b906-c2e20b198b12",
   "metadata": {},
   "outputs": [],
   "source": [
    "count = (trees['Tree species scientific'] == 'Carica papaya').sum()"
   ]
  },
  {
   "cell_type": "code",
   "execution_count": 8,
   "id": "20042614-1dc3-41b0-acb3-7267cc29c10f",
   "metadata": {},
   "outputs": [
    {
     "data": {
      "text/plain": [
       "71"
      ]
     },
     "execution_count": 8,
     "metadata": {},
     "output_type": "execute_result"
    }
   ],
   "source": [
    "count"
   ]
  },
  {
   "cell_type": "markdown",
   "id": "3979ad71-40e9-46dd-930c-052f9d90cfad",
   "metadata": {},
   "source": [
    "Using the above example of how to calculate this using the code figure out how many of each of the following trees you measured? Enter your code below the comments: \n",
    "\n",
    "1. African tulips\n",
    "2. Raintrees\n",
    "3. Rhizophora spp.\n",
    "4. Bruguiera spp.\n",
    "5. Banana"
   ]
  },
  {
   "cell_type": "code",
   "execution_count": 9,
   "id": "5340caab-64a8-41ce-ae7f-cc77e990751c",
   "metadata": {},
   "outputs": [
    {
     "name": "stdout",
     "output_type": "stream",
     "text": [
      "53\n"
     ]
    }
   ],
   "source": [
    "#1 African tulips\n",
    "count = (trees['Tree species scientific'] == 'Spathodea campanulata').sum()\n",
    "print(count)"
   ]
  },
  {
   "cell_type": "code",
   "execution_count": 24,
   "id": "6417ad70-5952-43f5-8d96-f383a26249be",
   "metadata": {},
   "outputs": [
    {
     "name": "stdout",
     "output_type": "stream",
     "text": [
      "53\n"
     ]
    }
   ],
   "source": [
    "#2 Raintrees\n",
    "count=(trees['Tree species scientific']=='Samane saa').sum()\n",
    "print(count)\n"
   ]
  },
  {
   "cell_type": "code",
   "execution_count": 11,
   "id": "92cb9e92-7057-4bd8-abeb-c952fcbd1903",
   "metadata": {},
   "outputs": [],
   "source": [
    "#3 Rhizophora spp.\n"
   ]
  },
  {
   "cell_type": "code",
   "execution_count": 12,
   "id": "244906d4-ca19-4ad9-bace-1f5ac792b4dc",
   "metadata": {},
   "outputs": [],
   "source": [
    "#4 Bruguiera spp.\n"
   ]
  },
  {
   "cell_type": "code",
   "execution_count": 13,
   "id": "354fee24-dbdb-49b9-8d22-69c777da2d29",
   "metadata": {},
   "outputs": [],
   "source": [
    "#5 Banana\n"
   ]
  },
  {
   "cell_type": "markdown",
   "id": "ead42dc1-7fd3-4674-8e0a-f18f83b13f47",
   "metadata": {},
   "source": [
    "Example of how to calculate the minimum height for all papaya trees measured within the dataset. You will need to enter the papaya tree scientific name: \n",
    "\n",
    "min_height = trees.loc[trees['Tree species scientific'] == '`insert papaya tree variable`', 'Height of tree (m)'].min()\n",
    "\n",
    "Then use `print(min_height)` to display"
   ]
  },
  {
   "cell_type": "code",
   "execution_count": null,
   "id": "e24a023e-6516-4080-a6a5-421d656b6882",
   "metadata": {},
   "outputs": [],
   "source": []
  },
  {
   "cell_type": "markdown",
   "id": "0c690b88-d7f5-4409-993c-f729ff706862",
   "metadata": {},
   "source": [
    "Replicate this process for the max height and then the average using the `.max()` and `.mean()` functions, respectively. Enter your code below the comments:"
   ]
  },
  {
   "cell_type": "code",
   "execution_count": 14,
   "id": "1009b241-67c8-4cb4-b0f3-a4d2d051cc22",
   "metadata": {},
   "outputs": [],
   "source": [
    "#1 .max()\n"
   ]
  },
  {
   "cell_type": "code",
   "execution_count": 15,
   "id": "ac960fcd-9ac9-4b84-a7c1-5af984df8952",
   "metadata": {},
   "outputs": [],
   "source": [
    "#2 .mean()\n"
   ]
  },
  {
   "cell_type": "markdown",
   "id": "0ef2f842-372f-4e28-b306-19a1d4d6d81e",
   "metadata": {},
   "source": [
    "Now work out the min, max and mean dbh values for the Rhizophora spp. and Bruguiera spp. "
   ]
  },
  {
   "cell_type": "code",
   "execution_count": 16,
   "id": "b19646eb-fe2e-4643-8c3b-801393444536",
   "metadata": {},
   "outputs": [],
   "source": [
    "#3 Rhizophora spp.\n",
    "\n",
    "#3.1 .min()\n",
    "#3.2 .max()\n",
    "#3.3 .mean()\n"
   ]
  },
  {
   "cell_type": "code",
   "execution_count": 17,
   "id": "afc702c0-fa58-4beb-bda8-407cd2b500f9",
   "metadata": {},
   "outputs": [],
   "source": [
    "#4 Bruguiera spp.\n",
    "\n",
    "#4.1 .min()\n",
    "#4.2 .max()\n",
    "#4.3 .mean()"
   ]
  },
  {
   "cell_type": "markdown",
   "id": "ba8d4968-d84a-49d6-b59d-cc422b1ca315",
   "metadata": {},
   "source": [
    "#### Calculate the Above Ground Biomass (AGB) for the following trees:\n",
    "\n",
    "##### One common form of the equation is AGB = a(ρD²H)ᵇ, where:  \n",
    "\n",
    "AGB: is the aboveground biomass.  \n",
    "ρ: is the wood density.  \n",
    "D: is the diameter at breast height (DBH).  \n",
    "H: is the total tree height.  \n",
    "\n",
    "Define each parameter in this equation within a variable: \n"
   ]
  },
  {
   "cell_type": "code",
   "execution_count": 18,
   "id": "8601ec25-7078-4a32-9d3c-d0fb7500195e",
   "metadata": {},
   "outputs": [
    {
     "name": "stdout",
     "output_type": "stream",
     "text": [
      "Index(['Surveyor', 'GlobalID', 'Tree species scientific', 'Height of tree (m)',\n",
      "       'DBH (cm)', 'Density', 'x', 'y', 'geometry'],\n",
      "      dtype='object')\n"
     ]
    }
   ],
   "source": [
    "print(trees.columns)"
   ]
  },
  {
   "cell_type": "markdown",
   "id": "b5ba07ca-b27b-457c-afef-11d890ff6576",
   "metadata": {},
   "source": [
    "To inspect the dataset just enter the variable name below `trees`"
   ]
  },
  {
   "cell_type": "code",
   "execution_count": null,
   "id": "76a4fc1f-45b3-4460-aec8-a388f15af815",
   "metadata": {},
   "outputs": [],
   "source": []
  },
  {
   "cell_type": "markdown",
   "id": "35875e45-bdc8-4b10-97c1-4d0224ab40d4",
   "metadata": {},
   "source": [
    "#### Define the equation as another variable"
   ]
  },
  {
   "cell_type": "code",
   "execution_count": 19,
   "id": "4f4e50d0-1fc5-4e07-af4a-33ea63d522d1",
   "metadata": {},
   "outputs": [],
   "source": [
    "trees['DBH (cm)'] = pd.to_numeric(trees['DBH (cm)'], errors='coerce')\n",
    "trees['Density'] = pd.to_numeric(trees['Density'], errors='coerce')\n",
    "trees['Height of tree (m)'] = pd.to_numeric(trees['Height of tree (m)'], errors='coerce')\n",
    "\n",
    "p = trees['Density']"
   ]
  },
  {
   "cell_type": "markdown",
   "id": "c49ade10-393f-4059-b463-71f130ab07c6",
   "metadata": {},
   "source": [
    "##### Define the other two variables in the formula following the example of density :\n",
    "\n",
    "`p = trees['Density']`\n",
    "\n",
    "Hint: you will need to define new variables for DBH and height. "
   ]
  },
  {
   "cell_type": "code",
   "execution_count": null,
   "id": "3b8a900b-3a02-49cb-8f43-887833efb05f",
   "metadata": {},
   "outputs": [],
   "source": []
  },
  {
   "cell_type": "markdown",
   "id": "b838e312-468b-43e4-9207-16ad0d9b446b",
   "metadata": {},
   "source": [
    "##### Define the formula in a new variable \n",
    "AGB = `variable_a` * `variable_b` * `variable_c` "
   ]
  },
  {
   "cell_type": "code",
   "execution_count": null,
   "id": "7d0f357f-2cf5-419b-83e6-0ef898d059da",
   "metadata": {},
   "outputs": [],
   "source": []
  },
  {
   "cell_type": "markdown",
   "id": "d355fa6b-4c95-40e4-99ce-454448bbec36",
   "metadata": {},
   "source": [
    "#### Incorporate the new column  \n",
    "trees['AGB'] = `insert AGB variable`"
   ]
  },
  {
   "cell_type": "code",
   "execution_count": null,
   "id": "1f17e9fa-fd97-4126-9ea5-9804a6763b15",
   "metadata": {},
   "outputs": [],
   "source": []
  },
  {
   "cell_type": "markdown",
   "id": "36ff2100-a412-45d1-8af6-242c750e9d29",
   "metadata": {},
   "source": [
    "To inspect the revised dataset with an ABG column re-enter the variable name below `trees`"
   ]
  },
  {
   "cell_type": "code",
   "execution_count": null,
   "id": "22814a04-f8bc-4f42-8363-42a7ca8069e7",
   "metadata": {},
   "outputs": [],
   "source": []
  },
  {
   "cell_type": "markdown",
   "id": "e27b7e77-a0d8-43ed-aae7-8f29ca965c65",
   "metadata": {},
   "source": [
    "Let's now plot the locations of these trees...   \n",
    "`insert_variable.explore()`"
   ]
  },
  {
   "cell_type": "code",
   "execution_count": null,
   "id": "22549463-c83c-44a7-8151-a24e3b16166c",
   "metadata": {},
   "outputs": [],
   "source": []
  },
  {
   "cell_type": "markdown",
   "id": "b6be10f8-44af-444d-aa87-30adf34cd23b",
   "metadata": {},
   "source": [
    "What was the location of your surveys? "
   ]
  },
  {
   "cell_type": "markdown",
   "id": "78d8c8ad-3b72-486f-b4eb-c3b056ccca50",
   "metadata": {},
   "source": [
    "We want to make a map that only includes the papaya trees from the survey. Try to use the following code to make this map: \n",
    "\n",
    "papaya = trees.loc[trees['`insert tree species column`'] == '`insert papaya species scientific name`']"
   ]
  },
  {
   "cell_type": "code",
   "execution_count": null,
   "id": "7c044e5d-e484-47aa-8967-3412978adf8a",
   "metadata": {},
   "outputs": [],
   "source": []
  },
  {
   "cell_type": "markdown",
   "id": "ca70494b-fdc3-4b88-95c2-33a246d8083e",
   "metadata": {},
   "source": [
    "Now explore this map by using te papaya `variable`.explore()"
   ]
  },
  {
   "cell_type": "code",
   "execution_count": null,
   "id": "1b8a9e98-7612-47bd-b2b8-f66ae7cf0458",
   "metadata": {},
   "outputs": [],
   "source": []
  },
  {
   "cell_type": "markdown",
   "id": "81e9bc57-689f-445c-b5d9-691abdd18cc2",
   "metadata": {},
   "source": [
    "#### Lots of map\n",
    "\n",
    "Now repeat these steps and visualise maps for the following trees: \n",
    "\n",
    "1. African tulips\n",
    "2. Raintrees\n",
    "3. Rhizophora spp.\n",
    "4. Bruguiera spp.\n",
    "5. Banana"
   ]
  },
  {
   "cell_type": "code",
   "execution_count": null,
   "id": "75fb8e0d-bd46-4e98-aa8a-c45e4fd9d8d5",
   "metadata": {},
   "outputs": [],
   "source": []
  },
  {
   "cell_type": "markdown",
   "id": "29ff9220-68b5-4b84-a443-863d97a30a80",
   "metadata": {},
   "source": [
    "### Activity - Complete\n",
    "\n",
    "Well done you have completed this activity on pandas and geopandas that could be useful for mangrove and other data analysis. Let your instructor now or if you have finished early, try out the bonus activity below: "
   ]
  },
  {
   "cell_type": "markdown",
   "id": "a6d67b3e-7540-466d-8cc5-7623050663a0",
   "metadata": {},
   "source": [
    "#### Bonus activity\n",
    "\n",
    "You have been contacted by the PS of the Ministry of Forestry. He has requested that you put together a map and report from your recent survey of all the trees with an above ground biomass of greater than 200 tonnes.  \n",
    "\n",
    "1. First create a map of all these larger trees\n",
    "2. List counts of the total number of larger trees\n",
    "3. Identify three of the species trees from this subset list of larger trees\n",
    "4. List the counts of these three species\n",
    "5. Identify the min, max and mean ABG of these larger trees\n",
    "6. Identify the min, max and mean height of these larger trees"
   ]
  },
  {
   "cell_type": "code",
   "execution_count": null,
   "id": "80870941-3010-4481-9022-04add1196d8f",
   "metadata": {},
   "outputs": [],
   "source": []
  },
  {
   "cell_type": "markdown",
   "id": "e34b95c3-d0ea-4dcb-bb50-dcb26441b357",
   "metadata": {},
   "source": [
    "### Bonus Activity - Complete\n",
    "Impressive work!"
   ]
  },
  {
   "cell_type": "code",
   "execution_count": null,
   "id": "64885f88-3de9-45b8-b803-39548a783735",
   "metadata": {},
   "outputs": [],
   "source": []
  }
 ],
 "metadata": {
  "kernelspec": {
   "display_name": "Python 3 (ipykernel)",
   "language": "python",
   "name": "python3"
  },
  "language_info": {
   "codemirror_mode": {
    "name": "ipython",
    "version": 3
   },
   "file_extension": ".py",
   "mimetype": "text/x-python",
   "name": "python",
   "nbconvert_exporter": "python",
   "pygments_lexer": "ipython3",
   "version": "3.10.18"
  }
 },
 "nbformat": 4,
 "nbformat_minor": 5
}
